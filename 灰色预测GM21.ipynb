{
 "cells": [
  {
   "cell_type": "code",
   "execution_count": 3,
   "id": "4c0c8ef7-fed6-4ee0-9c39-5722fae650c9",
   "metadata": {},
   "outputs": [
    {
     "name": "stdout",
     "output_type": "stream",
     "text": [
      "GM(2,1) 参数: a1=-1.9951, a2=0.0699, b=-241.5126\n",
      "拟合值: [130 130 135 140 145 150 155]\n",
      "残差: [ 0. -5.  5. -5.  5. -5.  5.]\n",
      "相对误差: [0.       0.04     0.035714 0.037037 0.033333 0.034483 0.03125 ]\n"
     ]
    }
   ],
   "source": [
    "import numpy as np\n",
    "import pandas as pd\n",
    "import sympy as sp\n",
    "from sympy import symbols, Function, Eq, dsolve, diff\n",
    "'''\n",
    "修改参数：\n",
    "1.数据的列索引--->修改“y_df.iloc[:, 0]”中的列\n",
    "2.数据的路径  --->“pd.read_excel(r'C:\\Users\\86135\\Documents\\MATLAB\\2.xlsx')”\n",
    "'''\n",
    "# 读取数据\n",
    "y_df = pd.read_excel(r'C:\\Users\\86135\\Documents\\MATLAB\\2.xlsx')  # 读取数据\n",
    "x0 = y_df.iloc[:, 0].values.astype(float)  # 提取数据列\n",
    "n = len(x0)\n",
    "\n",
    "# ================== GM(2,1) 核心算法 ==================\n",
    "x1 = np.cumsum(x0)           # 累加生成序列\n",
    "a_x0 = np.diff(x0)           # 累减生成序列\n",
    "z = 0.5 * (x1[1:] + x1[:-1]) # 均值生成序列\n",
    "\n",
    "# 构造矩阵 B 和向量 Y\n",
    "B = np.column_stack((-x0[1:], -z, np.ones(n-1)))\n",
    "Y = a_x0\n",
    "\n",
    "# 最小二乘法求解参数并明确命名\n",
    "coeff, residuals, rank, singular_values = np.linalg.lstsq(B, Y, rcond=None)\n",
    "a1, a2, b = coeff  # 参数拆分为 a1, a2, b\n",
    "\n",
    "# ================== 符号求解微分方程 ==================\n",
    "t = symbols('t')\n",
    "x = Function('x')(t)\n",
    "eq = Eq(diff(x, t, t) + a1 * diff(x, t) + a2 * x, b)  # 使用命名参数\n",
    "ics = {x.subs(t, 0): x1[0], x.subs(t, n-1): x1[-1]}\n",
    "\n",
    "try:\n",
    "    sol = dsolve(eq, ics=ics)\n",
    "    xt = sol.rhs\n",
    "except Exception as e:\n",
    "    print(\"符号求解失败:\", e)\n",
    "    exit()\n",
    "\n",
    "# ================== 计算拟合值 ==================\n",
    "t_values = np.arange(n)\n",
    "x_func = sp.lambdify(t, xt, modules='numpy')\n",
    "yuce = x_func(t_values)\n",
    "\n",
    "x0_hat = np.zeros(n)\n",
    "x0_hat[0] = yuce[0]\n",
    "for i in range(1, n):\n",
    "    x0_hat[i] = yuce[i] - yuce[i-1]\n",
    "x0_hat = np.round(x0_hat).astype(int)\n",
    "\n",
    "# ================== 结果输出 ==================\n",
    "print(\"GM(2,1) 参数: a1={:.4f}, a2={:.4f}, b={:.4f}\".format(a1, a2, b))\n",
    "print(\"拟合值:\", x0_hat)\n",
    "print(\"残差:\", x0 - x0_hat)\n",
    "print(\"相对误差:\", np.round(np.abs((x0 - x0_hat) / x0), 6))"
   ]
  },
  {
   "cell_type": "code",
   "execution_count": null,
   "id": "e9d7043f-4b1e-4607-8116-06eb6f161fca",
   "metadata": {},
   "outputs": [],
   "source": []
  }
 ],
 "metadata": {
  "kernelspec": {
   "display_name": "Python [conda env:base] *",
   "language": "python",
   "name": "conda-base-py"
  },
  "language_info": {
   "codemirror_mode": {
    "name": "ipython",
    "version": 3
   },
   "file_extension": ".py",
   "mimetype": "text/x-python",
   "name": "python",
   "nbconvert_exporter": "python",
   "pygments_lexer": "ipython3",
   "version": "3.12.3"
  }
 },
 "nbformat": 4,
 "nbformat_minor": 5
}
